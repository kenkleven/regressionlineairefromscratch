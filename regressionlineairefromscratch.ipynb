{
 "cells": [
  {
   "cell_type": "code",
   "execution_count": 53,
   "id": "e2dc94ec",
   "metadata": {},
   "outputs": [],
   "source": [
    "import numpy as np"
   ]
  },
  {
   "cell_type": "code",
   "execution_count": 54,
   "id": "e052629b",
   "metadata": {},
   "outputs": [],
   "source": [
    "\n",
    "class RegressionLineaire():\n",
    "    def __init__(self, alpha=0.01, max_iter=100):\n",
    "        self.alpha = alpha\n",
    "        self.max_iter = max_iter\n",
    "        self.w = None\n",
    "        self.b = 0.0\n",
    "\n",
    "    def pred(self, X):\n",
    "        return np.dot(X, self.w) + self.b\n",
    "\n",
    "    def cout(self, X, y):\n",
    "        y_pred = self.pred(X)\n",
    "        return np.mean((y_pred - y) ** 2)\n",
    "\n",
    "    def gradients(self, X, y):\n",
    "        m = len(y)\n",
    "        y_pred = self.pred(X)\n",
    "        error = y_pred - y\n",
    "        dw = (2/m) * np.dot(X.T, error)\n",
    "        db = (2/m) * np.sum(error)\n",
    "        return dw, db\n",
    "\n",
    "    def fit(self, X, y):\n",
    "        m, n = X.shape\n",
    "        self.w = np.zeros(n)\n",
    "        self.b = 0.0\n",
    "\n",
    "        for i in range(self.max_iter):\n",
    "            dw, db = self.gradients(X, y)\n",
    "            self.w -= self.alpha * dw\n",
    "            self.b -= self.alpha * db\n",
    "\n",
    "            if i % 10 == 0 or i == self.max_iter - 1:\n",
    "                cost = self.cout(X, y)\n",
    "                print(f\"Époque {i} : coût = {cost:.4f}, w = {self.w}, b = {self.b:.4f}\")\n",
    "\n",
    "    def get_params(self):\n",
    "        return self.w, self.b"
   ]
  },
  {
   "cell_type": "code",
   "execution_count": 55,
   "id": "a2afa807",
   "metadata": {},
   "outputs": [],
   "source": [
    "X = np.array([\n",
    "    [1, 2],\n",
    "    [2, 0],\n",
    "    [3, 1],\n",
    "    [4, 3]\n",
    "])\n",
    "\n",
    "y = np.array([5, 4, 8, 10])"
   ]
  },
  {
   "cell_type": "code",
   "execution_count": 56,
   "id": "5ac60a83",
   "metadata": {},
   "outputs": [
    {
     "data": {
      "text/plain": [
       "array([[1, 2],\n",
       "       [2, 0],\n",
       "       [3, 1],\n",
       "       [4, 3]])"
      ]
     },
     "execution_count": 56,
     "metadata": {},
     "output_type": "execute_result"
    }
   ],
   "source": [
    "X"
   ]
  },
  {
   "cell_type": "code",
   "execution_count": 57,
   "id": "25a77212",
   "metadata": {},
   "outputs": [
    {
     "name": "stdout",
     "output_type": "stream",
     "text": [
      "Époque 0 : coût = 31.3190, w = [0.385 0.24 ], b = 0.1350\n",
      "Époque 10 : coût = 0.7233, w = [1.63473782 1.00037422], b = 0.5921\n",
      "Époque 20 : coût = 0.5023, w = [1.74118177 1.04334352], b = 0.6561\n",
      "Époque 30 : coût = 0.4897, w = [1.75195639 1.02995869], b = 0.6867\n",
      "Époque 40 : coût = 0.4800, w = [1.75367102 1.01430394], b = 0.7136\n",
      "Époque 50 : coût = 0.4715, w = [1.75366812 1.00048508], b = 0.7393\n",
      "Époque 60 : coût = 0.4640, w = [1.75272384 0.98854057], b = 0.7641\n",
      "Époque 70 : coût = 0.4572, w = [1.75104651 0.97821863], b = 0.7879\n",
      "Époque 80 : coût = 0.4510, w = [1.74877522 0.96928185], b = 0.8110\n",
      "Époque 90 : coût = 0.4454, w = [1.74602428 0.96152653], b = 0.8333\n",
      "Époque 99 : coût = 0.4407, w = [1.74321812 0.95541311], b = 0.8527\n"
     ]
    }
   ],
   "source": [
    "# Boucle d'entraînement\n",
    "model = RegressionLineaire(alpha=0.01, max_iter=100)\n",
    "model.fit(X, y)"
   ]
  },
  {
   "cell_type": "code",
   "execution_count": 58,
   "id": "28802f65",
   "metadata": {},
   "outputs": [
    {
     "name": "stdout",
     "output_type": "stream",
     "text": [
      "W: [1.74321812 0.95541311], b: 0.8527091398917936\n"
     ]
    }
   ],
   "source": [
    "w,b = model.get_params()\n",
    "print(f\"W: {w}, b: {b}\")"
   ]
  },
  {
   "cell_type": "code",
   "execution_count": 59,
   "id": "ba63dee2",
   "metadata": {},
   "outputs": [
    {
     "name": "stdout",
     "output_type": "stream",
     "text": [
      "Prédiction pour [5, 2] : 11.479625952028796\n"
     ]
    }
   ],
   "source": [
    "# === Prédiction ===\n",
    "X_test = np.array([[5, 2]])\n",
    "y_pred = model.pred(X_test)\n",
    "print(\"Prédiction pour [5, 2] :\", y_pred[0])"
   ]
  }
 ],
 "metadata": {
  "kernelspec": {
   "display_name": "Python 3",
   "language": "python",
   "name": "python3"
  },
  "language_info": {
   "codemirror_mode": {
    "name": "ipython",
    "version": 3
   },
   "file_extension": ".py",
   "mimetype": "text/x-python",
   "name": "python",
   "nbconvert_exporter": "python",
   "pygments_lexer": "ipython3",
   "version": "3.10.11"
  }
 },
 "nbformat": 4,
 "nbformat_minor": 5
}
